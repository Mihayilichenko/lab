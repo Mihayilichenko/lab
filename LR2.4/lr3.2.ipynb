{
 "cells": [
  {
   "cell_type": "code",
   "execution_count": 3,
   "id": "aade2df0",
   "metadata": {},
   "outputs": [
    {
     "name": "stdout",
     "output_type": "stream",
     "text": [
      "Максимальный по модулю: 30\n",
      "Сумма между: 34\n",
      "Список со смещением нулей: [24, 25, 9, 13, 28, 30, 1, 11, 5, 10, 25, -5, -5, 8, 1, 8, -3, -1, 14, 10, -3, 29, 5, 7, 26, 15, 23, 27, 14, 0]\n"
     ]
    }
   ],
   "source": [
    "#В списке, состоящем из вещественных элементов, вычислить:\n",
    "#1. максимальный по модулю элемент списка;\n",
    "#2. сумму элементов списка, расположенных между первым и вторым положительными\n",
    "#элементами.\n",
    "#Преобразовать список таким образом, чтобы элементы, равные нулю, располагались после всех\n",
    "#остальных.\n",
    "\n",
    "from random import randint\n",
    " \n",
    "my_list = [randint(-5, 30) for i in range(30)]\n",
    "pos_1 = 0\n",
    "pos_2 = 0\n",
    "for i in range(len(my_list)):\n",
    "    if pos_1 and pos_2:\n",
    "        break\n",
    "    elif my_list[i] > 0 and not pos_1:\n",
    "        pos_1 = i\n",
    "    elif my_list[i] > 0 and not pos_2:\n",
    "        pos_2 = i\n",
    " \n",
    "modified_my_list = [i for i in my_list if i] + [0] * my_list.count(0)\n",
    " \n",
    "print(f'Максимальный по модулю: {max(my_list, key=abs)}')\n",
    "print(f'Сумма между: {sum(my_list[i] for i in range(pos_1, pos_2 + 1))}' if pos_1 and pos_2 else 'В списке один или ноль положительных элементов')\n",
    "print(f'Список со смещением нулей: {modified_my_list}')"
   ]
  },
  {
   "cell_type": "code",
   "execution_count": null,
   "id": "262ce2ef",
   "metadata": {},
   "outputs": [],
   "source": []
  }
 ],
 "metadata": {
  "kernelspec": {
   "display_name": "Python 3 (ipykernel)",
   "language": "python",
   "name": "python3"
  },
  "language_info": {
   "codemirror_mode": {
    "name": "ipython",
    "version": 3
   },
   "file_extension": ".py",
   "mimetype": "text/x-python",
   "name": "python",
   "nbconvert_exporter": "python",
   "pygments_lexer": "ipython3",
   "version": "3.9.7"
  }
 },
 "nbformat": 4,
 "nbformat_minor": 5
}
