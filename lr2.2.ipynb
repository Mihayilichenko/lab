{
 "cells": [
  {
   "cell_type": "code",
   "execution_count": 2,
   "id": "a44edafe",
   "metadata": {},
   "outputs": [
    {
     "name": "stdout",
     "output_type": "stream",
     "text": [
      "ИИ оо \n",
      "1 2\n"
     ]
    }
   ],
   "source": [
    "line = input()\n",
    " \n",
    "for ind in range(len(line) - 1):\n",
    "    if line[ind] == line[ind + 1]:\n",
    "        print(ind + 1, ind + 2)\n",
    "        break\n",
    "else:\n",
    "    print('Таких нет')"
   ]
  },
  {
   "cell_type": "code",
   "execution_count": null,
   "id": "72bd34a8",
   "metadata": {},
   "outputs": [],
   "source": []
  },
  {
   "cell_type": "code",
   "execution_count": null,
   "id": "194039f0",
   "metadata": {},
   "outputs": [],
   "source": []
  }
 ],
 "metadata": {
  "kernelspec": {
   "display_name": "Python 3 (ipykernel)",
   "language": "python",
   "name": "python3"
  },
  "language_info": {
   "codemirror_mode": {
    "name": "ipython",
    "version": 3
   },
   "file_extension": ".py",
   "mimetype": "text/x-python",
   "name": "python",
   "nbconvert_exporter": "python",
   "pygments_lexer": "ipython3",
   "version": "3.9.7"
  }
 },
 "nbformat": 4,
 "nbformat_minor": 5
}
