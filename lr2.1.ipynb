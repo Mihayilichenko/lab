{
 "cells": [
  {
   "cell_type": "code",
   "execution_count": 1,
   "id": "bb6e97b8",
   "metadata": {},
   "outputs": [
    {
     "name": "stdout",
     "output_type": "stream",
     "text": [
      "Напечатайте предложение: Жили были дед да бабка\n",
      "Какой символ проверить на вхождение: д\n",
      "дед\n",
      "да\n"
     ]
    }
   ],
   "source": [
    "s = list(input('Напечатайте предложение: ').split())\n",
    "c = input('Какой символ проверить на вхождение: ')\n",
    "for i in range(len(s)):\n",
    "    if(c in s[i]): print(s[i])"
   ]
  },
  {
   "cell_type": "code",
   "execution_count": null,
   "id": "43fc3857",
   "metadata": {},
   "outputs": [],
   "source": []
  }
 ],
 "metadata": {
  "kernelspec": {
   "display_name": "Python 3 (ipykernel)",
   "language": "python",
   "name": "python3"
  },
  "language_info": {
   "codemirror_mode": {
    "name": "ipython",
    "version": 3
   },
   "file_extension": ".py",
   "mimetype": "text/x-python",
   "name": "python",
   "nbconvert_exporter": "python",
   "pygments_lexer": "ipython3",
   "version": "3.9.7"
  }
 },
 "nbformat": 4,
 "nbformat_minor": 5
}
