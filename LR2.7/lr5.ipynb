{
 "cells": [
  {
   "cell_type": "code",
   "execution_count": 3,
   "id": "a1ce43d9",
   "metadata": {},
   "outputs": [
    {
     "name": "stdout",
     "output_type": "stream",
     "text": [
      "x = {'o', 't', 'f', 'y', 'u', 'z', 'n', 'h'}\n",
      "y = {'d'}\n"
     ]
    }
   ],
   "source": [
    "\n",
    "\n",
    "if __name__ == \"__main__\":\n",
    "\n",
    "    u = set(\"add\")\n",
    "    \n",
    "    a = {\"a\", \"f\", \"i\", \"n\", \"o\"}\n",
    "    b = {\"f\", \"g\", \"o\", \"p\", \"z\"}\n",
    "    c = {\"i\", \"j\", \"u\", \"w\"}\n",
    "    d = {\"f\", \"h\", \"n\", \"t\", \"u\", \"y\", \"z\"}\n",
    "    \n",
    "    x = (a.intersection(b)).union(d)\n",
    "    print(f\"x = {x}\")\n",
    "    \n",
    "    an = u.difference(a)\n",
    "    bn = u.difference(b)\n",
    "    \n",
    "    y = (an.intersection(bn)).difference(c.union(d))\n",
    "    print(f\"y = {y}\")"
   ]
  },
  {
   "cell_type": "code",
   "execution_count": null,
   "id": "b5669c6b",
   "metadata": {},
   "outputs": [],
   "source": []
  }
 ],
 "metadata": {
  "kernelspec": {
   "display_name": "Python 3 (ipykernel)",
   "language": "python",
   "name": "python3"
  },
  "language_info": {
   "codemirror_mode": {
    "name": "ipython",
    "version": 3
   },
   "file_extension": ".py",
   "mimetype": "text/x-python",
   "name": "python",
   "nbconvert_exporter": "python",
   "pygments_lexer": "ipython3",
   "version": "3.9.7"
  }
 },
 "nbformat": 4,
 "nbformat_minor": 5
}
