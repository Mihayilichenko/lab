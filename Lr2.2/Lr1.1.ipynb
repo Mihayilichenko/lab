{
 "cells": [
  {
   "cell_type": "code",
   "execution_count": 19,
   "id": "4ba0913b",
   "metadata": {},
   "outputs": [
    {
     "name": "stdout",
     "output_type": "stream",
     "text": [
      "Месяц > 3\n",
      "Первое полугодие\n",
      "31\n"
     ]
    }
   ],
   "source": [
    "#Дано число m(1<=m<=12 ). Определить полугодие, на которое приходится месяц с\n",
    "#номером и количество дней в том месяце (год не високосный).\n",
    "\n",
    "import calendar\n",
    "month = int(input('Месяц > '))\n",
    "num_days=(31,28,31,30,31,30,31,31,30,31,30,31)\n",
    "print('Первое полугодие' if month in range(1, 7) else 'Второе подугодие')\n",
    "print(num_days[month-1])"
   ]
  },
  {
   "cell_type": "code",
   "execution_count": null,
   "id": "9534feb3",
   "metadata": {},
   "outputs": [],
   "source": []
  },
  {
   "cell_type": "code",
   "execution_count": null,
   "id": "15b4604c",
   "metadata": {},
   "outputs": [],
   "source": []
  },
  {
   "cell_type": "code",
   "execution_count": null,
   "id": "f02d1167",
   "metadata": {},
   "outputs": [],
   "source": []
  }
 ],
 "metadata": {
  "kernelspec": {
   "display_name": "Python 3 (ipykernel)",
   "language": "python",
   "name": "python3"
  },
  "language_info": {
   "codemirror_mode": {
    "name": "ipython",
    "version": 3
   },
   "file_extension": ".py",
   "mimetype": "text/x-python",
   "name": "python",
   "nbconvert_exporter": "python",
   "pygments_lexer": "ipython3",
   "version": "3.9.7"
  }
 },
 "nbformat": 4,
 "nbformat_minor": 5
}
