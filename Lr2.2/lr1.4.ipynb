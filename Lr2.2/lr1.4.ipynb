{
 "cells": [
  {
   "cell_type": "code",
   "execution_count": 12,
   "id": "1c22cc51",
   "metadata": {
    "scrolled": true
   },
   "outputs": [
    {
     "name": "stdout",
     "output_type": "stream",
     "text": [
      "Value of x? 0.3\n",
      "Ei(0.3) = -0.33216501164046747\n"
     ]
    }
   ],
   "source": [
    "#an=(((-1)**n)(x**2n+1))/((2n+1) math.factorial(n)) (2)\n",
    "#an+1=(a**(n+1))/((n+1) math.factorial(n+1)) (3)\n",
    "#an+1=(a**(n+1))/((n+1) (n+1) math.factorial(n))=\n",
    "#= (x**(n+1)/((n+1)**2) math.factorial(n)) (4)\n",
    "#(an+1/an)=((a**(n+1))/(((n+1)**2) math.factorial(n))) /\n",
    "#/ ((x**n)/n* math.factorial(n)) = (x*n) / ((n+1)**2) (5)\n",
    "#an+1=((x*n)/((n+1)**2)*an) (6)\n",
    "\n",
    "\n",
    "import math\n",
    "import sys\n",
    "EULER = 0.5772156649015328606\n",
    "\n",
    "EPS = 1e-10\n",
    "if __name__ == '__main__':\n",
    "    x = float(input(\"Value of x? \"))\n",
    "    if x == 0:\n",
    "        print(\"Illegal value of x\", file=sys.stderr)\n",
    "        exit(1)\n",
    "    a = x\n",
    "    S, n = a, 1\n",
    "    \n",
    "    while math.fabs(a) > EPS:\n",
    "        a *= (pow(-1, n)) * (pow(x, 2 * n + 1)) / (2 * n + 1) * (n + 1)\n",
    "        S += a\n",
    "        n += 1\n",
    "    \n",
    "    print(f\"Ei({x}) = {EULER + math.log(math.fabs(x)) + S}\")"
   ]
  },
  {
   "cell_type": "code",
   "execution_count": null,
   "id": "c6662549",
   "metadata": {},
   "outputs": [],
   "source": []
  },
  {
   "cell_type": "code",
   "execution_count": null,
   "id": "9dee91f2",
   "metadata": {},
   "outputs": [],
   "source": []
  },
  {
   "cell_type": "code",
   "execution_count": null,
   "id": "213290c2",
   "metadata": {},
   "outputs": [],
   "source": []
  }
 ],
 "metadata": {
  "kernelspec": {
   "display_name": "Python 3 (ipykernel)",
   "language": "python",
   "name": "python3"
  },
  "language_info": {
   "codemirror_mode": {
    "name": "ipython",
    "version": 3
   },
   "file_extension": ".py",
   "mimetype": "text/x-python",
   "name": "python",
   "nbconvert_exporter": "python",
   "pygments_lexer": "ipython3",
   "version": "3.9.7"
  }
 },
 "nbformat": 4,
 "nbformat_minor": 5
}
