{
 "cells": [
  {
   "cell_type": "code",
   "execution_count": 31,
   "id": "1c22cc51",
   "metadata": {
    "scrolled": true
   },
   "outputs": [
    {
     "name": "stdout",
     "output_type": "stream",
     "text": [
      "Введите значение x: 2\n",
      "При n = ( 1 ), функция равна = -3.0090111123\n",
      "При n = ( 2 ), функция равна = 14.4432533388\n",
      "При n = ( 3 ), функция равна = -123.7993143328\n",
      "При n = ( 4 ), функция равна = 1540.6136894744\n",
      "При n = ( 5 ), функция равна = -25210.0421913994\n",
      "При n = ( 6 ), функция равна = 511957.7798868797\n",
      "При n = ( 7 ), функция равна = -12423508.7919216137\n",
      "При n = ( 8 ), функция равна = 350781424.7130808234\n",
      "При n = ( 9 ), функция равна = -11298854311.8108139038\n"
     ]
    }
   ],
   "source": [
    "import math\n",
    "from math import sqrt\n",
    "\n",
    "x = float(input(\"Введите значение x: \"))\n",
    "for n in range(1, 10):\n",
    "    fun = 2 / sqrt(math.pi) * (pow(-1, n)) * (pow(x, 2 * n + 1)) / (2 * n + 1) * math.factorial(n)\n",
    "    print(\"При n = (\",n,\"), функция равна = %.10f\" % fun)\n",
    "    "
   ]
  },
  {
   "cell_type": "code",
   "execution_count": null,
   "id": "c6662549",
   "metadata": {},
   "outputs": [],
   "source": []
  }
 ],
 "metadata": {
  "kernelspec": {
   "display_name": "Python 3 (ipykernel)",
   "language": "python",
   "name": "python3"
  },
  "language_info": {
   "codemirror_mode": {
    "name": "ipython",
    "version": 3
   },
   "file_extension": ".py",
   "mimetype": "text/x-python",
   "name": "python",
   "nbconvert_exporter": "python",
   "pygments_lexer": "ipython3",
   "version": "3.9.7"
  }
 },
 "nbformat": 4,
 "nbformat_minor": 5
}
