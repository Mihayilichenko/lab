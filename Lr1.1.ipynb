{
 "cells": [
  {
   "cell_type": "code",
   "execution_count": 7,
   "id": "4ba0913b",
   "metadata": {},
   "outputs": [
    {
     "name": "stdout",
     "output_type": "stream",
     "text": [
      "Месяц > 1\n",
      "Первое полугодие\n",
      "Количество дней 31\n"
     ]
    }
   ],
   "source": [
    "import calendar\n",
    "month = int(input('Месяц > '))\n",
    "days=(31,28,31,30,31,30,31,31,30,31,30,31)\n",
    "print('Первое полугодие' if month in range(1, 7) else 'Второе подугодие')\n",
    "print('Количество дней', days[month - 1] if 1 <= day <= 12 else \"НЕТ\")"
   ]
  },
  {
   "cell_type": "code",
   "execution_count": null,
   "id": "9534feb3",
   "metadata": {},
   "outputs": [],
   "source": []
  },
  {
   "cell_type": "code",
   "execution_count": null,
   "id": "15b4604c",
   "metadata": {},
   "outputs": [],
   "source": []
  }
 ],
 "metadata": {
  "kernelspec": {
   "display_name": "Python 3 (ipykernel)",
   "language": "python",
   "name": "python3"
  },
  "language_info": {
   "codemirror_mode": {
    "name": "ipython",
    "version": 3
   },
   "file_extension": ".py",
   "mimetype": "text/x-python",
   "name": "python",
   "nbconvert_exporter": "python",
   "pygments_lexer": "ipython3",
   "version": "3.9.7"
  }
 },
 "nbformat": 4,
 "nbformat_minor": 5
}
