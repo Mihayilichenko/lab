{
 "cells": [
  {
   "cell_type": "code",
   "execution_count": 1,
   "id": "a37dac03",
   "metadata": {},
   "outputs": [
    {
     "name": "stdout",
     "output_type": "stream",
     "text": [
      "солнце \n",
      "облако\n",
      "с н ц е   б а к "
     ]
    }
   ],
   "source": [
    "#Даны два слова. Напечатать только те буквы слов, которые встречаются в обоих словах\n",
    "#лишь один раз. Например, если заданные слова процессор и информация, то ответом\n",
    "#должно быть: п е ф м а я.\n",
    "\n",
    "#!/usr/bin/env python3\n",
    "# -*- coding: utf-8 -*-\n",
    "\n",
    "def num_symbol(st):\n",
    "    sym = []\n",
    "    used = []\n",
    "    for elem in st:\n",
    "        if elem in sym:\n",
    "            sym.remove(elem)\n",
    "            used.append(elem)\n",
    "        elif elem not in used:\n",
    "            sym.append(elem)\n",
    "    return sym\n",
    " \n",
    " \n",
    "s1 = input()\n",
    "s2 = input()\n",
    "s1 += s2\n",
    "for elem in num_symbol(s1):\n",
    "    print(elem, end=' ')"
   ]
  },
  {
   "cell_type": "code",
   "execution_count": null,
   "id": "a1f7da5a",
   "metadata": {},
   "outputs": [],
   "source": []
  }
 ],
 "metadata": {
  "kernelspec": {
   "display_name": "Python 3 (ipykernel)",
   "language": "python",
   "name": "python3"
  },
  "language_info": {
   "codemirror_mode": {
    "name": "ipython",
    "version": 3
   },
   "file_extension": ".py",
   "mimetype": "text/x-python",
   "name": "python",
   "nbconvert_exporter": "python",
   "pygments_lexer": "ipython3",
   "version": "3.9.7"
  }
 },
 "nbformat": 4,
 "nbformat_minor": 5
}
