{
 "cells": [
  {
   "cell_type": "code",
   "execution_count": 1,
   "id": "2f1848ae",
   "metadata": {},
   "outputs": [
    {
     "name": "stdout",
     "output_type": "stream",
     "text": [
      "Очень большая овальная булочка\n",
      "Очень большая вальная булчка\n"
     ]
    }
   ],
   "source": [
    "#Дано предложение. Удалить из него все буквы о, стоящие на нечетных местах.\n",
    "\n",
    "#!/usr/bin/env python3\n",
    "# -*- coding: utf-8 -*-\n",
    "\n",
    "print(''.join(char for n, char in enumerate(\n",
    "    input()) if not (char == 'о' and n % 2 == 0)))"
   ]
  },
  {
   "cell_type": "code",
   "execution_count": null,
   "id": "83c3b9a7",
   "metadata": {},
   "outputs": [],
   "source": []
  },
  {
   "cell_type": "code",
   "execution_count": null,
   "id": "b8e2c927",
   "metadata": {},
   "outputs": [],
   "source": []
  }
 ],
 "metadata": {
  "kernelspec": {
   "display_name": "Python 3 (ipykernel)",
   "language": "python",
   "name": "python3"
  },
  "language_info": {
   "codemirror_mode": {
    "name": "ipython",
    "version": 3
   },
   "file_extension": ".py",
   "mimetype": "text/x-python",
   "name": "python",
   "nbconvert_exporter": "python",
   "pygments_lexer": "ipython3",
   "version": "3.9.7"
  }
 },
 "nbformat": 4,
 "nbformat_minor": 5
}
