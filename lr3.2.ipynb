{
 "cells": [
  {
   "cell_type": "code",
   "execution_count": 1,
   "id": "aade2df0",
   "metadata": {},
   "outputs": [
    {
     "name": "stdout",
     "output_type": "stream",
     "text": [
      "Максимальный по модулю: 27\n",
      "Сумма между: 30\n",
      "Массив со смещением нулей: [-5, 3, 27, 1, 13, -3, 27, 11, 19, 4, -2, 1, -3, -4, 15, 13, 22, 23, 14, 20, 6, 1, 16, 23, 9, 20, 15, -5, 0, 0]\n"
     ]
    }
   ],
   "source": [
    "from random import randint\n",
    " \n",
    "array = [randint(-5, 30) for i in range(30)]\n",
    "pos_1 = 0\n",
    "pos_2 = 0\n",
    "for i in range(len(array)):\n",
    "    if pos_1 and pos_2:\n",
    "        break\n",
    "    elif array[i] > 0 and not pos_1:\n",
    "        pos_1 = i\n",
    "    elif array[i] > 0 and not pos_2:\n",
    "        pos_2 = i\n",
    " \n",
    "modified_array = [i for i in array if i] + [0] * array.count(0)\n",
    " \n",
    "print(f'Максимальный по модулю: {max(array, key=abs)}')\n",
    "print(f'Сумма между: {sum(array[i] for i in range(pos_1, pos_2 + 1))}' if pos_1 and pos_2 else 'В массиве один или ноль положительных элементов')\n",
    "print(f'Массив со смещением нулей: {modified_array}')"
   ]
  },
  {
   "cell_type": "code",
   "execution_count": null,
   "id": "262ce2ef",
   "metadata": {},
   "outputs": [],
   "source": []
  }
 ],
 "metadata": {
  "kernelspec": {
   "display_name": "Python 3 (ipykernel)",
   "language": "python",
   "name": "python3"
  },
  "language_info": {
   "codemirror_mode": {
    "name": "ipython",
    "version": 3
   },
   "file_extension": ".py",
   "mimetype": "text/x-python",
   "name": "python",
   "nbconvert_exporter": "python",
   "pygments_lexer": "ipython3",
   "version": "3.9.7"
  }
 },
 "nbformat": 4,
 "nbformat_minor": 5
}
